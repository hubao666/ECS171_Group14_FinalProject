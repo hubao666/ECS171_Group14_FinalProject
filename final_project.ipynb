{
 "cells": [
  {
   "cell_type": "code",
   "execution_count": 10,
   "metadata": {},
   "outputs": [
    {
     "name": "stdout",
     "output_type": "stream",
     "text": [
      "Target : \n",
      "['Dropout' 'Graduate' 'Enrolled']\n",
      "Dimensions of the dataset :  (4424, 37)\n",
      "\n",
      "Number of samples for each flower species:\n",
      "Target\n",
      "Graduate    2209\n",
      "Dropout     1421\n",
      "Enrolled     794\n",
      "Name: count, dtype: int64\n"
     ]
    }
   ],
   "source": [
    "import pandas as pd\n",
    "import numpy as np\n",
    "\n",
    "dataset = pd.read_csv(\"data.csv\", sep=';')\n",
    "\n",
    "print(\"Target : \")\n",
    "print(dataset['Target'].unique())\n",
    "\n",
    "print(\"Dimensions of the dataset : \", dataset.shape)\n",
    "\n",
    "print('\\nNumber of samples for each flower species:')\n",
    "print(dataset[\"Target\"].value_counts())"
   ]
  },
  {
   "cell_type": "code",
   "execution_count": 3,
   "metadata": {},
   "outputs": [
    {
     "name": "stdout",
     "output_type": "stream",
     "text": [
      "\n",
      "No missing values found in the dataset.\n"
     ]
    }
   ],
   "source": [
    "# check if there is any missing value\n",
    "missing_values = dataset.isnull().sum()\n",
    "if missing_values.any():\n",
    "    print(\"\\nThere are missing values in the dataset.\")\n",
    "else:\n",
    "    print(\"\\nNo missing values found in the dataset.\")"
   ]
  }
 ],
 "metadata": {
  "kernelspec": {
   "display_name": "base",
   "language": "python",
   "name": "python3"
  },
  "language_info": {
   "codemirror_mode": {
    "name": "ipython",
    "version": 3
   },
   "file_extension": ".py",
   "mimetype": "text/x-python",
   "name": "python",
   "nbconvert_exporter": "python",
   "pygments_lexer": "ipython3",
   "version": "3.11.5"
  }
 },
 "nbformat": 4,
 "nbformat_minor": 2
}
